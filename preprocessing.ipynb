{
 "cells": [
  {
   "cell_type": "markdown",
   "id": "53cc8f2f",
   "metadata": {},
   "source": [
    "## Concatenating different datasets"
   ]
  },
  {
   "cell_type": "code",
   "execution_count": 1,
   "id": "d835203f",
   "metadata": {},
   "outputs": [],
   "source": [
    "import pandas as pd"
   ]
  },
  {
   "cell_type": "code",
   "execution_count": 2,
   "id": "152b2615",
   "metadata": {},
   "outputs": [],
   "source": [
    "df_original = pd.read_csv(\"datasets/english.csv\", sep=';')"
   ]
  },
  {
   "cell_type": "code",
   "execution_count": 3,
   "id": "64d41093",
   "metadata": {},
   "outputs": [],
   "source": [
    "df_eng = pd.read_csv(\"datasets/CRA_train_1200.csv\")"
   ]
  },
  {
   "cell_type": "code",
   "execution_count": 4,
   "id": "fcde5a08",
   "metadata": {},
   "outputs": [],
   "source": [
    "df_deutsch = pd.read_csv(\"datasets/deutsch.csv\", sep=';')"
   ]
  },
  {
   "cell_type": "code",
   "execution_count": 5,
   "id": "0e954ee8",
   "metadata": {},
   "outputs": [],
   "source": [
    "df = pd.concat([df_original, df_eng, df_deutsch], ignore_index=True)"
   ]
  },
  {
   "cell_type": "code",
   "execution_count": 6,
   "id": "23ca0bda",
   "metadata": {},
   "outputs": [
    {
     "name": "stdout",
     "output_type": "stream",
     "text": [
      "<class 'pandas.core.frame.DataFrame'>\n",
      "RangeIndex: 3600 entries, 0 to 3599\n",
      "Data columns (total 5 columns):\n",
      " #   Column            Non-Null Count  Dtype  \n",
      "---  ------            --------------  -----  \n",
      " 0   Unnamed: 0        2400 non-null   float64\n",
      " 1   pr_txt            3600 non-null   object \n",
      " 2   Категория         3600 non-null   object \n",
      " 3   Уровень рейтинга  3600 non-null   object \n",
      " 4   Id                1200 non-null   float64\n",
      "dtypes: float64(2), object(3)\n",
      "memory usage: 140.8+ KB\n"
     ]
    }
   ],
   "source": [
    "df.info()"
   ]
  },
  {
   "cell_type": "code",
   "execution_count": 7,
   "id": "afe084df",
   "metadata": {},
   "outputs": [],
   "source": [
    "df = df.drop(columns=['Id', 'Unnamed: 0'])"
   ]
  },
  {
   "cell_type": "code",
   "execution_count": 8,
   "id": "45f6df7f",
   "metadata": {},
   "outputs": [
    {
     "data": {
      "text/html": [
       "<div>\n",
       "<style scoped>\n",
       "    .dataframe tbody tr th:only-of-type {\n",
       "        vertical-align: middle;\n",
       "    }\n",
       "\n",
       "    .dataframe tbody tr th {\n",
       "        vertical-align: top;\n",
       "    }\n",
       "\n",
       "    .dataframe thead th {\n",
       "        text-align: right;\n",
       "    }\n",
       "</style>\n",
       "<table border=\"1\" class=\"dataframe\">\n",
       "  <thead>\n",
       "    <tr style=\"text-align: right;\">\n",
       "      <th></th>\n",
       "      <th>pr_txt</th>\n",
       "      <th>Категория</th>\n",
       "      <th>Уровень рейтинга</th>\n",
       "    </tr>\n",
       "  </thead>\n",
       "  <tbody>\n",
       "    <tr>\n",
       "      <th>0</th>\n",
       "      <td>Повышение кредитного рейтинга Акционерного общ...</td>\n",
       "      <td>A</td>\n",
       "      <td>A</td>\n",
       "    </tr>\n",
       "    <tr>\n",
       "      <th>1</th>\n",
       "      <td>«Эксперт РА» подтвердил кредитный рейтинг комп...</td>\n",
       "      <td>BB</td>\n",
       "      <td>BB</td>\n",
       "    </tr>\n",
       "    <tr>\n",
       "      <th>2</th>\n",
       "      <td>НКР повысила кредитный рейтинг ООО \"ОТЭКО-Порт...</td>\n",
       "      <td>A</td>\n",
       "      <td>A</td>\n",
       "    </tr>\n",
       "    <tr>\n",
       "      <th>3</th>\n",
       "      <td>«Эксперт РА» присвоил ПАО «ФосАгро» кредитный ...</td>\n",
       "      <td>AAA</td>\n",
       "      <td>AAA</td>\n",
       "    </tr>\n",
       "    <tr>\n",
       "      <th>4</th>\n",
       "      <td>29 марта 2023 Ведущий рейтинговый аналитик Алл...</td>\n",
       "      <td>BBB</td>\n",
       "      <td>BBB</td>\n",
       "    </tr>\n",
       "    <tr>\n",
       "      <th>...</th>\n",
       "      <td>...</td>\n",
       "      <td>...</td>\n",
       "      <td>...</td>\n",
       "    </tr>\n",
       "    <tr>\n",
       "      <th>3595</th>\n",
       "      <td>«Эксперт РА» подтвердило рейтинг «Татнефти» на...</td>\n",
       "      <td>AAA</td>\n",
       "      <td>AAA</td>\n",
       "    </tr>\n",
       "    <tr>\n",
       "      <th>3596</th>\n",
       "      <td>«Эксперт РА» понизило рейтинг компании «Инвест...</td>\n",
       "      <td>BB</td>\n",
       "      <td>BB</td>\n",
       "    </tr>\n",
       "    <tr>\n",
       "      <th>3597</th>\n",
       "      <td>АКРА подтвердило кредитный рейтинг ПАО «КАМАЗ»...</td>\n",
       "      <td>A</td>\n",
       "      <td>A+</td>\n",
       "    </tr>\n",
       "    <tr>\n",
       "      <th>3598</th>\n",
       "      <td>АКРА подтвердило кредитный рейтинг ФГУП «Почта...</td>\n",
       "      <td>AAA</td>\n",
       "      <td>AAA</td>\n",
       "    </tr>\n",
       "    <tr>\n",
       "      <th>3599</th>\n",
       "      <td>«Эксперт РА» подтвердил рейтинг компании СИБИН...</td>\n",
       "      <td>BB</td>\n",
       "      <td>BB+</td>\n",
       "    </tr>\n",
       "  </tbody>\n",
       "</table>\n",
       "<p>3600 rows × 3 columns</p>\n",
       "</div>"
      ],
      "text/plain": [
       "                                                 pr_txt Категория  \\\n",
       "0     Повышение кредитного рейтинга Акционерного общ...         A   \n",
       "1     «Эксперт РА» подтвердил кредитный рейтинг комп...        BB   \n",
       "2     НКР повысила кредитный рейтинг ООО \"ОТЭКО-Порт...         A   \n",
       "3     «Эксперт РА» присвоил ПАО «ФосАгро» кредитный ...       AAA   \n",
       "4     29 марта 2023 Ведущий рейтинговый аналитик Алл...       BBB   \n",
       "...                                                 ...       ...   \n",
       "3595  «Эксперт РА» подтвердило рейтинг «Татнефти» на...       AAA   \n",
       "3596  «Эксперт РА» понизило рейтинг компании «Инвест...        BB   \n",
       "3597  АКРА подтвердило кредитный рейтинг ПАО «КАМАЗ»...         A   \n",
       "3598  АКРА подтвердило кредитный рейтинг ФГУП «Почта...       AAA   \n",
       "3599  «Эксперт РА» подтвердил рейтинг компании СИБИН...        BB   \n",
       "\n",
       "     Уровень рейтинга  \n",
       "0                   A  \n",
       "1                  BB  \n",
       "2                   A  \n",
       "3                 AAA  \n",
       "4                 BBB  \n",
       "...               ...  \n",
       "3595              AAA  \n",
       "3596               BB  \n",
       "3597               A+  \n",
       "3598              AAA  \n",
       "3599              BB+  \n",
       "\n",
       "[3600 rows x 3 columns]"
      ]
     },
     "execution_count": 8,
     "metadata": {},
     "output_type": "execute_result"
    }
   ],
   "source": [
    "df"
   ]
  },
  {
   "cell_type": "markdown",
   "id": "8d9d838d",
   "metadata": {},
   "source": [
    "## Preprocessing"
   ]
  },
  {
   "cell_type": "code",
   "execution_count": 9,
   "id": "88e299cb",
   "metadata": {},
   "outputs": [],
   "source": [
    "from nltk.corpus import stopwords\n",
    "import re\n",
    "from tqdm.auto import tqdm\n",
    "from natasha import (\n",
    "    Segmenter,\n",
    "    NewsEmbedding,\n",
    "    NewsMorphTagger,\n",
    "    PER,\n",
    "    NamesExtractor,\n",
    "    MorphVocab,\n",
    "    Doc,\n",
    "    NewsNERTagger\n",
    ")"
   ]
  },
  {
   "cell_type": "code",
   "execution_count": 10,
   "id": "445c57d9",
   "metadata": {},
   "outputs": [],
   "source": [
    "russian_stopwords = stopwords.words('russian')\n",
    "words_to_del = ['хорошо']\n",
    "words_to_add = ['rating', 'ооо', 'оао', 'ао', \"ра\", 'пао', 'гк', 'ппк', 'зао', 'нкр', \"акр\", \"акра\", \"аналитик\", 'компания', 'эксперт','рейтинг', 'агенство', 'млрд', 'руб', 'м', 'х', 'нпк', 'овк', 'г', 'гг', 'i', 'ii']\n",
    "russian_stopwords.extend(words_to_add)\n",
    "\n",
    "for w in words_to_del:\n",
    "    russian_stopwords.remove(w)"
   ]
  },
  {
   "cell_type": "code",
   "execution_count": 11,
   "id": "47cea251",
   "metadata": {},
   "outputs": [],
   "source": [
    "def delete_sites(s):\n",
    "    sites = r\"(?:https?:\\/\\/|ftps?:\\/\\/|www\\.)\\S\"\n",
    "    emails='([a-zA-Z0-9._-]+@[a-zA-Z0-9._-]+\\.[a-zA-Z0-9_-]+)'\n",
    "    r =  re.sub(sites, '', s)\n",
    "    return re.sub(emails, '~', r)"
   ]
  },
  {
   "cell_type": "code",
   "execution_count": 12,
   "id": "49a63fa1",
   "metadata": {},
   "outputs": [],
   "source": [
    "import string\n",
    "def delete_punkt(s):\n",
    "    return s.translate(str.maketrans('', '', string.punctuation + \"«»—№–\"))"
   ]
  },
  {
   "cell_type": "code",
   "execution_count": 13,
   "id": "79fb5774",
   "metadata": {},
   "outputs": [],
   "source": [
    "def delete_digits(s):\n",
    "    return re.sub(\"[0-9]\", \"\", s)"
   ]
  },
  {
   "cell_type": "code",
   "execution_count": 16,
   "id": "57ecacce",
   "metadata": {},
   "outputs": [],
   "source": [
    "def delete_stopwords(tokens, names):\n",
    "    without_stopwords = [t for t in tokens\n",
    "                         if t not in russian_stopwords and t not in names]\n",
    "    return \" \".join(without_stopwords)"
   ]
  },
  {
   "cell_type": "code",
   "execution_count": 17,
   "id": "1fff17dd",
   "metadata": {},
   "outputs": [],
   "source": [
    "segmenter = Segmenter()\n",
    "emb = NewsEmbedding()\n",
    "morph_tagger = NewsMorphTagger(emb)\n",
    "morph_vocab = MorphVocab()\n",
    "\n",
    "names_extractor = NamesExtractor(morph_vocab)\n",
    "ner_tagger = NewsNERTagger(emb)"
   ]
  },
  {
   "cell_type": "code",
   "execution_count": 18,
   "id": "84c98c7a",
   "metadata": {},
   "outputs": [],
   "source": [
    "def normalized(text):\n",
    "    doc = Doc(text)\n",
    "    \n",
    "    doc.segment(segmenter)\n",
    "    doc.tag_morph(morph_tagger)\n",
    "    \n",
    "    lemmatized_sentence_list = []\n",
    "    \n",
    "    doc.tag_ner(ner_tagger)\n",
    "    for token in doc.tokens:\n",
    "        token.lemmatize(morph_vocab)\n",
    "        lemmatized_sentence_list.append(token.lemma)\n",
    "        \n",
    "    names = []\n",
    "    for span in doc.spans:\n",
    "        if span.type == PER:\n",
    "            span.normalize(morph_vocab)\n",
    "            names.extend(span.normal.lower().split())\n",
    "            \n",
    "    text = delete_stopwords(lemmatized_sentence_list, names)\n",
    "              \n",
    "    return text"
   ]
  },
  {
   "cell_type": "code",
   "execution_count": 19,
   "id": "47fd4037",
   "metadata": {},
   "outputs": [],
   "source": [
    "def preprocess(text):\n",
    "    text_without_sites = delete_sites(text)\n",
    "    text_without_punct = delete_punkt(text_without_sites)\n",
    "    text_without_digits = delete_digits(text_without_punct)\n",
    "    return normalized(text_without_digits)"
   ]
  },
  {
   "cell_type": "code",
   "execution_count": 21,
   "id": "0508d2bb",
   "metadata": {},
   "outputs": [
    {
     "data": {
      "application/vnd.jupyter.widget-view+json": {
       "model_id": "0959d07680fb435c82e6314c70a9e861",
       "version_major": 2,
       "version_minor": 0
      },
      "text/plain": [
       "  0%|          | 0/3600 [00:00<?, ?it/s]"
      ]
     },
     "metadata": {},
     "output_type": "display_data"
    }
   ],
   "source": [
    "tqdm.pandas()\n",
    "df['preprocessed_text'] = df['pr_txt'].progress_apply(preprocess)"
   ]
  },
  {
   "cell_type": "code",
   "execution_count": 22,
   "id": "b54dd9cc",
   "metadata": {},
   "outputs": [
    {
     "data": {
      "text/html": [
       "<div>\n",
       "<style scoped>\n",
       "    .dataframe tbody tr th:only-of-type {\n",
       "        vertical-align: middle;\n",
       "    }\n",
       "\n",
       "    .dataframe tbody tr th {\n",
       "        vertical-align: top;\n",
       "    }\n",
       "\n",
       "    .dataframe thead th {\n",
       "        text-align: right;\n",
       "    }\n",
       "</style>\n",
       "<table border=\"1\" class=\"dataframe\">\n",
       "  <thead>\n",
       "    <tr style=\"text-align: right;\">\n",
       "      <th></th>\n",
       "      <th>pr_txt</th>\n",
       "      <th>Категория</th>\n",
       "      <th>Уровень рейтинга</th>\n",
       "      <th>preprocessed_text</th>\n",
       "    </tr>\n",
       "  </thead>\n",
       "  <tbody>\n",
       "    <tr>\n",
       "      <th>0</th>\n",
       "      <td>Повышение кредитного рейтинга Акционерного общ...</td>\n",
       "      <td>A</td>\n",
       "      <td>A</td>\n",
       "      <td>повышение кредитный акционерный общество ураль...</td>\n",
       "    </tr>\n",
       "    <tr>\n",
       "      <th>1</th>\n",
       "      <td>«Эксперт РА» подтвердил кредитный рейтинг комп...</td>\n",
       "      <td>BB</td>\n",
       "      <td>BB</td>\n",
       "      <td>подтвердить кредитный энергоконцепт уровень мо...</td>\n",
       "    </tr>\n",
       "    <tr>\n",
       "      <th>2</th>\n",
       "      <td>НКР повысила кредитный рейтинг ООО \"ОТЭКО-Порт...</td>\n",
       "      <td>A</td>\n",
       "      <td>A</td>\n",
       "      <td>повысить кредитный отэкопортсервис стабильный ...</td>\n",
       "    </tr>\n",
       "    <tr>\n",
       "      <th>3</th>\n",
       "      <td>«Эксперт РА» присвоил ПАО «ФосАгро» кредитный ...</td>\n",
       "      <td>AAA</td>\n",
       "      <td>AAA</td>\n",
       "      <td>присвоить фосагро кредитный уровень москва мар...</td>\n",
       "    </tr>\n",
       "    <tr>\n",
       "      <th>4</th>\n",
       "      <td>29 марта 2023 Ведущий рейтинговый аналитик Алл...</td>\n",
       "      <td>BBB</td>\n",
       "      <td>BBB</td>\n",
       "      <td>март ведущий рейтинговый юров младший директор...</td>\n",
       "    </tr>\n",
       "  </tbody>\n",
       "</table>\n",
       "</div>"
      ],
      "text/plain": [
       "                                              pr_txt Категория  \\\n",
       "0  Повышение кредитного рейтинга Акционерного общ...         A   \n",
       "1  «Эксперт РА» подтвердил кредитный рейтинг комп...        BB   \n",
       "2  НКР повысила кредитный рейтинг ООО \"ОТЭКО-Порт...         A   \n",
       "3  «Эксперт РА» присвоил ПАО «ФосАгро» кредитный ...       AAA   \n",
       "4  29 марта 2023 Ведущий рейтинговый аналитик Алл...       BBB   \n",
       "\n",
       "  Уровень рейтинга                                  preprocessed_text  \n",
       "0                A  повышение кредитный акционерный общество ураль...  \n",
       "1               BB  подтвердить кредитный энергоконцепт уровень мо...  \n",
       "2                A  повысить кредитный отэкопортсервис стабильный ...  \n",
       "3              AAA  присвоить фосагро кредитный уровень москва мар...  \n",
       "4              BBB  март ведущий рейтинговый юров младший директор...  "
      ]
     },
     "execution_count": 22,
     "metadata": {},
     "output_type": "execute_result"
    }
   ],
   "source": [
    "df.head()"
   ]
  },
  {
   "cell_type": "markdown",
   "id": "1c9c0b18",
   "metadata": {},
   "source": [
    "## Making Regression Target"
   ]
  },
  {
   "cell_type": "code",
   "execution_count": 23,
   "id": "c421ced7",
   "metadata": {},
   "outputs": [],
   "source": [
    "new_target_values = {'AAA': 9,\n",
    "                     'AA+': 7, \n",
    "                     'AA': 6,\n",
    "                     'AA-': 5,\n",
    "                     'A+': 4,\n",
    "                     'A': 3,\n",
    "                     'A-': 2,\n",
    "                     'BBB+': 1,\n",
    "                     'BBB': 0,\n",
    "                     'BBB-': -1,\n",
    "                     'BB+': -2,\n",
    "                     'BB': -3,\n",
    "                     'BB-': -4,\n",
    "                     'B+':  -5,\n",
    "                     'B': -6,\n",
    "                     'B-': -7,\n",
    "                     'C': -9}"
   ]
  },
  {
   "cell_type": "code",
   "execution_count": 24,
   "id": "bba8240d",
   "metadata": {},
   "outputs": [],
   "source": [
    "df['target'] = df['Уровень рейтинга'].apply(lambda x: new_target_values[x])"
   ]
  },
  {
   "cell_type": "code",
   "execution_count": 27,
   "id": "9992a0bc",
   "metadata": {},
   "outputs": [],
   "source": [
    "from sklearn.preprocessing import MinMaxScaler\n",
    "import numpy as np"
   ]
  },
  {
   "cell_type": "code",
   "execution_count": 28,
   "id": "9a0829fd",
   "metadata": {},
   "outputs": [],
   "source": [
    "scaler = MinMaxScaler(feature_range=(0, 1))\n",
    "\n",
    "input_vector = np.array(list(range(-10, 11)))  \n",
    "input_vector = input_vector.reshape(-1, 1)\n",
    "\n",
    "scaled_vector = scaler.fit_transform(input_vector).reshape(1, -1)[0]"
   ]
  },
  {
   "cell_type": "code",
   "execution_count": 29,
   "id": "2601f169",
   "metadata": {},
   "outputs": [],
   "source": [
    "scaled_target = dict(zip(input_vector.reshape(1, -1)[0], scaled_vector))\n",
    "df['scaled_target'] = df['target'].apply(lambda x: scaled_target[x])"
   ]
  },
  {
   "cell_type": "code",
   "execution_count": 38,
   "id": "ebbbb6f0",
   "metadata": {},
   "outputs": [
    {
     "data": {
      "text/plain": [
       "{-10: 0.0,\n",
       " -9: 0.04999999999999999,\n",
       " -8: 0.09999999999999998,\n",
       " -7: 0.14999999999999997,\n",
       " -6: 0.19999999999999996,\n",
       " -5: 0.25,\n",
       " -4: 0.3,\n",
       " -3: 0.35,\n",
       " -2: 0.4,\n",
       " -1: 0.45,\n",
       " 0: 0.5,\n",
       " 1: 0.55,\n",
       " 2: 0.6,\n",
       " 3: 0.65,\n",
       " 4: 0.7,\n",
       " 5: 0.75,\n",
       " 6: 0.8,\n",
       " 7: 0.8500000000000001,\n",
       " 8: 0.9,\n",
       " 9: 0.95,\n",
       " 10: 1.0}"
      ]
     },
     "execution_count": 38,
     "metadata": {},
     "output_type": "execute_result"
    }
   ],
   "source": [
    "scaled_target"
   ]
  },
  {
   "cell_type": "markdown",
   "id": "6cfa843f",
   "metadata": {},
   "source": [
    "----"
   ]
  },
  {
   "cell_type": "code",
   "execution_count": 30,
   "id": "07bb89f7",
   "metadata": {},
   "outputs": [
    {
     "data": {
      "text/html": [
       "<div>\n",
       "<style scoped>\n",
       "    .dataframe tbody tr th:only-of-type {\n",
       "        vertical-align: middle;\n",
       "    }\n",
       "\n",
       "    .dataframe tbody tr th {\n",
       "        vertical-align: top;\n",
       "    }\n",
       "\n",
       "    .dataframe thead th {\n",
       "        text-align: right;\n",
       "    }\n",
       "</style>\n",
       "<table border=\"1\" class=\"dataframe\">\n",
       "  <thead>\n",
       "    <tr style=\"text-align: right;\">\n",
       "      <th></th>\n",
       "      <th>pr_txt</th>\n",
       "      <th>Категория</th>\n",
       "      <th>Уровень рейтинга</th>\n",
       "      <th>preprocessed_text</th>\n",
       "      <th>target</th>\n",
       "      <th>scaled_target</th>\n",
       "    </tr>\n",
       "  </thead>\n",
       "  <tbody>\n",
       "    <tr>\n",
       "      <th>0</th>\n",
       "      <td>Повышение кредитного рейтинга Акционерного общ...</td>\n",
       "      <td>A</td>\n",
       "      <td>A</td>\n",
       "      <td>повышение кредитный акционерный общество ураль...</td>\n",
       "      <td>3</td>\n",
       "      <td>0.65</td>\n",
       "    </tr>\n",
       "    <tr>\n",
       "      <th>1</th>\n",
       "      <td>«Эксперт РА» подтвердил кредитный рейтинг комп...</td>\n",
       "      <td>BB</td>\n",
       "      <td>BB</td>\n",
       "      <td>подтвердить кредитный энергоконцепт уровень мо...</td>\n",
       "      <td>-3</td>\n",
       "      <td>0.35</td>\n",
       "    </tr>\n",
       "    <tr>\n",
       "      <th>2</th>\n",
       "      <td>НКР повысила кредитный рейтинг ООО \"ОТЭКО-Порт...</td>\n",
       "      <td>A</td>\n",
       "      <td>A</td>\n",
       "      <td>повысить кредитный отэкопортсервис стабильный ...</td>\n",
       "      <td>3</td>\n",
       "      <td>0.65</td>\n",
       "    </tr>\n",
       "    <tr>\n",
       "      <th>3</th>\n",
       "      <td>«Эксперт РА» присвоил ПАО «ФосАгро» кредитный ...</td>\n",
       "      <td>AAA</td>\n",
       "      <td>AAA</td>\n",
       "      <td>присвоить фосагро кредитный уровень москва мар...</td>\n",
       "      <td>9</td>\n",
       "      <td>0.95</td>\n",
       "    </tr>\n",
       "    <tr>\n",
       "      <th>4</th>\n",
       "      <td>29 марта 2023 Ведущий рейтинговый аналитик Алл...</td>\n",
       "      <td>BBB</td>\n",
       "      <td>BBB</td>\n",
       "      <td>март ведущий рейтинговый юров младший директор...</td>\n",
       "      <td>0</td>\n",
       "      <td>0.50</td>\n",
       "    </tr>\n",
       "    <tr>\n",
       "      <th>...</th>\n",
       "      <td>...</td>\n",
       "      <td>...</td>\n",
       "      <td>...</td>\n",
       "      <td>...</td>\n",
       "      <td>...</td>\n",
       "      <td>...</td>\n",
       "    </tr>\n",
       "    <tr>\n",
       "      <th>3595</th>\n",
       "      <td>«Эксперт РА» подтвердило рейтинг «Татнефти» на...</td>\n",
       "      <td>AAA</td>\n",
       "      <td>AAA</td>\n",
       "      <td>подтвердить татнефть уровень москва апрель рей...</td>\n",
       "      <td>9</td>\n",
       "      <td>0.95</td>\n",
       "    </tr>\n",
       "    <tr>\n",
       "      <th>3596</th>\n",
       "      <td>«Эксперт РА» понизило рейтинг компании «Инвест...</td>\n",
       "      <td>BB</td>\n",
       "      <td>BB</td>\n",
       "      <td>понизить уровень изменить прогноз развитие уст...</td>\n",
       "      <td>-3</td>\n",
       "      <td>0.35</td>\n",
       "    </tr>\n",
       "    <tr>\n",
       "      <th>3597</th>\n",
       "      <td>АКРА подтвердило кредитный рейтинг ПАО «КАМАЗ»...</td>\n",
       "      <td>A</td>\n",
       "      <td>A+</td>\n",
       "      <td>подтвердить кредитный камаз прогноз стабильный...</td>\n",
       "      <td>4</td>\n",
       "      <td>0.70</td>\n",
       "    </tr>\n",
       "    <tr>\n",
       "      <th>3598</th>\n",
       "      <td>АКРА подтвердило кредитный рейтинг ФГУП «Почта...</td>\n",
       "      <td>AAA</td>\n",
       "      <td>AAA</td>\n",
       "      <td>подтвердить кредитный фгуп почта россия уровен...</td>\n",
       "      <td>9</td>\n",
       "      <td>0.95</td>\n",
       "    </tr>\n",
       "    <tr>\n",
       "      <th>3599</th>\n",
       "      <td>«Эксперт РА» подтвердил рейтинг компании СИБИН...</td>\n",
       "      <td>BB</td>\n",
       "      <td>BB+</td>\n",
       "      <td>подтвердить сибинтек уровень москва апрель рей...</td>\n",
       "      <td>-2</td>\n",
       "      <td>0.40</td>\n",
       "    </tr>\n",
       "  </tbody>\n",
       "</table>\n",
       "<p>3600 rows × 6 columns</p>\n",
       "</div>"
      ],
      "text/plain": [
       "                                                 pr_txt Категория  \\\n",
       "0     Повышение кредитного рейтинга Акционерного общ...         A   \n",
       "1     «Эксперт РА» подтвердил кредитный рейтинг комп...        BB   \n",
       "2     НКР повысила кредитный рейтинг ООО \"ОТЭКО-Порт...         A   \n",
       "3     «Эксперт РА» присвоил ПАО «ФосАгро» кредитный ...       AAA   \n",
       "4     29 марта 2023 Ведущий рейтинговый аналитик Алл...       BBB   \n",
       "...                                                 ...       ...   \n",
       "3595  «Эксперт РА» подтвердило рейтинг «Татнефти» на...       AAA   \n",
       "3596  «Эксперт РА» понизило рейтинг компании «Инвест...        BB   \n",
       "3597  АКРА подтвердило кредитный рейтинг ПАО «КАМАЗ»...         A   \n",
       "3598  АКРА подтвердило кредитный рейтинг ФГУП «Почта...       AAA   \n",
       "3599  «Эксперт РА» подтвердил рейтинг компании СИБИН...        BB   \n",
       "\n",
       "     Уровень рейтинга                                  preprocessed_text  \\\n",
       "0                   A  повышение кредитный акционерный общество ураль...   \n",
       "1                  BB  подтвердить кредитный энергоконцепт уровень мо...   \n",
       "2                   A  повысить кредитный отэкопортсервис стабильный ...   \n",
       "3                 AAA  присвоить фосагро кредитный уровень москва мар...   \n",
       "4                 BBB  март ведущий рейтинговый юров младший директор...   \n",
       "...               ...                                                ...   \n",
       "3595              AAA  подтвердить татнефть уровень москва апрель рей...   \n",
       "3596               BB  понизить уровень изменить прогноз развитие уст...   \n",
       "3597               A+  подтвердить кредитный камаз прогноз стабильный...   \n",
       "3598              AAA  подтвердить кредитный фгуп почта россия уровен...   \n",
       "3599              BB+  подтвердить сибинтек уровень москва апрель рей...   \n",
       "\n",
       "      target  scaled_target  \n",
       "0          3           0.65  \n",
       "1         -3           0.35  \n",
       "2          3           0.65  \n",
       "3          9           0.95  \n",
       "4          0           0.50  \n",
       "...      ...            ...  \n",
       "3595       9           0.95  \n",
       "3596      -3           0.35  \n",
       "3597       4           0.70  \n",
       "3598       9           0.95  \n",
       "3599      -2           0.40  \n",
       "\n",
       "[3600 rows x 6 columns]"
      ]
     },
     "execution_count": 30,
     "metadata": {},
     "output_type": "execute_result"
    }
   ],
   "source": [
    "df"
   ]
  },
  {
   "cell_type": "code",
   "execution_count": 37,
   "id": "09b26d53",
   "metadata": {},
   "outputs": [],
   "source": [
    "df.to_csv('datasets/dataset.csv')"
   ]
  }
 ],
 "metadata": {
  "kernelspec": {
   "display_name": "Python 3 (ipykernel)",
   "language": "python",
   "name": "python3"
  },
  "language_info": {
   "codemirror_mode": {
    "name": "ipython",
    "version": 3
   },
   "file_extension": ".py",
   "mimetype": "text/x-python",
   "name": "python",
   "nbconvert_exporter": "python",
   "pygments_lexer": "ipython3",
   "version": "3.9.13"
  }
 },
 "nbformat": 4,
 "nbformat_minor": 5
}
